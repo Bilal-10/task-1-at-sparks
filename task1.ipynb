{
 "cells": [
  {
   "cell_type": "code",
   "execution_count": 27,
   "metadata": {},
   "outputs": [],
   "source": [
    "#importing required modules\r\n",
    "import pandas as pd\r\n",
    "import numpy as np \r\n",
    "import matplotlib.pyplot as plt"
   ]
  },
  {
   "cell_type": "markdown",
   "metadata": {},
   "source": [
    "Reading data from the provided link"
   ]
  },
  {
   "cell_type": "code",
   "execution_count": 28,
   "metadata": {},
   "outputs": [],
   "source": [
    "#reading data from our csv file\r\n",
    "data=pd.read_csv('http://bit.ly/w-data')\r\n",
    "hours=data['Hours']\r\n",
    "scores=data['Scores']\r\n"
   ]
  },
  {
   "cell_type": "markdown",
   "metadata": {},
   "source": [
    "Checking if the provided data has any Null value in it or not"
   ]
  },
  {
   "cell_type": "code",
   "execution_count": 29,
   "metadata": {},
   "outputs": [
    {
     "name": "stdout",
     "output_type": "stream",
     "text": [
      "    Hours  Scores\n",
      "0   False   False\n",
      "1   False   False\n",
      "2   False   False\n",
      "3   False   False\n",
      "4   False   False\n",
      "5   False   False\n",
      "6   False   False\n",
      "7   False   False\n",
      "8   False   False\n",
      "9   False   False\n",
      "10  False   False\n",
      "11  False   False\n",
      "12  False   False\n",
      "13  False   False\n",
      "14  False   False\n",
      "15  False   False\n",
      "16  False   False\n",
      "17  False   False\n",
      "18  False   False\n",
      "19  False   False\n",
      "20  False   False\n",
      "21  False   False\n",
      "22  False   False\n",
      "23  False   False\n",
      "24  False   False\n"
     ]
    }
   ],
   "source": [
    "print(data.isnull())"
   ]
  },
  {
   "cell_type": "markdown",
   "metadata": {},
   "source": [
    "Spitting our data into train and test set usually in a 8:2 ratio"
   ]
  },
  {
   "cell_type": "code",
   "execution_count": 30,
   "metadata": {},
   "outputs": [],
   "source": [
    "#splitting data into train and test set usually in a 8:2 ratio\r\n",
    "from sklearn.model_selection import train_test_split\r\n",
    "hours_train,hours_test,scores_train,scores_test=train_test_split(hours,scores,test_size=0.2)"
   ]
  },
  {
   "cell_type": "markdown",
   "metadata": {},
   "source": [
    "Visualizing our data"
   ]
  },
  {
   "cell_type": "code",
   "execution_count": 31,
   "metadata": {},
   "outputs": [
    {
     "data": {
      "text/plain": "<function matplotlib.pyplot.show(close=None, block=None)>"
     },
     "execution_count": 31,
     "metadata": {},
     "output_type": "execute_result"
    },
    {
     "data": {
      "image/png": "[encoded data removed]",
      "text/plain": "<Figure size 432x288 with 1 Axes>"
     },
     "metadata": {
      "needs_background": "light"
     },
     "output_type": "display_data"
    }
   ],
   "source": [
    "plt.scatter(hours,scores)\r\n",
    "plt.show"
   ]
  },
  {
   "cell_type": "markdown",
   "metadata": {},
   "source": [
    "Building our model"
   ]
  },
  {
   "cell_type": "code",
   "execution_count": 32,
   "metadata": {},
   "outputs": [],
   "source": [
    "#building our model\r\n",
    "from sklearn.linear_model import LinearRegression\r\n",
    "lr_model=LinearRegression()"
   ]
  },
  {
   "cell_type": "markdown",
   "metadata": {},
   "source": [
    "Trainig our model"
   ]
  },
  {
   "cell_type": "code",
   "execution_count": 33,
   "metadata": {},
   "outputs": [
    {
     "data": {
      "text/plain": "LinearRegression()"
     },
     "execution_count": 33,
     "metadata": {},
     "output_type": "execute_result"
    }
   ],
   "source": [
    "#training our model\r\n",
    "lr_model.fit(np.array(hours_train).reshape(-1,1),np.array(scores_train).reshape(-1,1))"
   ]
  },
  {
   "cell_type": "markdown",
   "metadata": {},
   "source": [
    "Predicting on our testing data"
   ]
  },
  {
   "cell_type": "code",
   "execution_count": 34,
   "metadata": {},
   "outputs": [
    {
     "data": {
      "image/png": "[encoded data removed]",
      "text/plain": "<Figure size 432x288 with 1 Axes>"
     },
     "metadata": {
      "needs_background": "light"
     },
     "output_type": "display_data"
    }
   ],
   "source": [
    "pred=lr_model.predict(np.array(hours_test).reshape(-1,1))\r\n",
    "plt.scatter(hours_test,scores_test,label='Actual',c='red')\r\n",
    "plt.plot(hours_test,pred,label='Regression line')\r\n",
    "plt.xlabel('Hours Studied')\r\n",
    "plt.ylabel('Marks Scored')\r\n",
    "plt.legend()\r\n",
    "plt.show()"
   ]
  },
  {
   "cell_type": "markdown",
   "metadata": {},
   "source": [
    "Visualizing the comparision between our actual output and our predicted output"
   ]
  },
  {
   "cell_type": "code",
   "execution_count": 35,
   "metadata": {},
   "outputs": [
    {
     "data": {
      "image/png": "[encoded data removed]",
      "text/plain": "<Figure size 432x288 with 1 Axes>"
     },
     "metadata": {
      "needs_background": "light"
     },
     "output_type": "display_data"
    }
   ],
   "source": [
    "df = pd.DataFrame({'Marks Scored': scores_test, 'Predicted Marks': pred.flatten()})\r\n",
    "df.plot(kind='bar')\r\n",
    "plt.show()"
   ]
  },
  {
   "cell_type": "markdown",
   "metadata": {},
   "source": [
    "Predicting the marks scored if the student studied for 9.25 hours daily"
   ]
  },
  {
   "cell_type": "code",
   "execution_count": 36,
   "metadata": {},
   "outputs": [
    {
     "name": "stdout",
     "output_type": "stream",
     "text": [
      "[[93.83655725]]\n"
     ]
    }
   ],
   "source": [
    "#makit it predict on our custom input\r\n",
    "inp=9.25\r\n",
    "print(lr_model.predict(np.array(inp).reshape(-1,1)))"
   ]
  }
 ],
 "metadata": {
  "kernelspec": {
   "display_name": "Python 3.8.8 64-bit",
   "name": "python388jvsc74a57bd0c98b8283c45e453a9298b57af39c5892f51a0efcf78d04889ed4a25df686b28c"
  },
  "language_info": {
   "codemirror_mode": {
    "name": "ipython",
    "version": 3
   },
   "file_extension": ".py",
   "mimetype": "text/x-python",
   "name": "python",
   "nbconvert_exporter": "python",
   "pygments_lexer": "ipython3",
   "version": "3.8.8"
  },
  "metadata": {
   "interpreter": {
    "hash": "c98b8283c45e453a9298b57af39c5892f51a0efcf78d04889ed4a25df686b28c"
   }
  },
  "orig_nbformat": 2
 },
 "nbformat": 4,
 "nbformat_minor": 2
}